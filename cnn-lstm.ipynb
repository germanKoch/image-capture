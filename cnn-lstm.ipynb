{
 "cells": [
  {
   "cell_type": "code",
   "execution_count": 1,
   "id": "f3e0c525",
   "metadata": {
    "_cell_guid": "b1076dfc-b9ad-4769-8c92-a6c4dae69d19",
    "_uuid": "8f2839f25d086af736a60e9eeb907d3b93b6e0e5",
    "execution": {
     "iopub.execute_input": "2023-03-25T10:57:14.048065Z",
     "iopub.status.busy": "2023-03-25T10:57:14.047633Z",
     "iopub.status.idle": "2023-03-25T10:57:39.338653Z",
     "shell.execute_reply": "2023-03-25T10:57:39.336531Z"
    },
    "papermill": {
     "duration": 25.299441,
     "end_time": "2023-03-25T10:57:39.341930",
     "exception": false,
     "start_time": "2023-03-25T10:57:14.042489",
     "status": "completed"
    },
    "tags": []
   },
   "outputs": [
    {
     "name": "stdout",
     "output_type": "stream",
     "text": [
      "Requirement already satisfied: torch in /opt/conda/lib/python3.7/site-packages (1.13.0+cpu)\r\n",
      "Requirement already satisfied: torchvision in /opt/conda/lib/python3.7/site-packages (0.14.0+cpu)\r\n",
      "Requirement already satisfied: typing-extensions in /opt/conda/lib/python3.7/site-packages (from torch) (4.4.0)\r\n",
      "Requirement already satisfied: numpy in /opt/conda/lib/python3.7/site-packages (from torchvision) (1.21.6)\r\n",
      "Requirement already satisfied: pillow!=8.3.*,>=5.3.0 in /opt/conda/lib/python3.7/site-packages (from torchvision) (9.4.0)\r\n",
      "Requirement already satisfied: requests in /opt/conda/lib/python3.7/site-packages (from torchvision) (2.28.2)\r\n",
      "Requirement already satisfied: charset-normalizer<4,>=2 in /opt/conda/lib/python3.7/site-packages (from requests->torchvision) (2.1.1)\r\n",
      "Requirement already satisfied: idna<4,>=2.5 in /opt/conda/lib/python3.7/site-packages (from requests->torchvision) (3.4)\r\n",
      "Requirement already satisfied: urllib3<1.27,>=1.21.1 in /opt/conda/lib/python3.7/site-packages (from requests->torchvision) (1.26.14)\r\n",
      "Requirement already satisfied: certifi>=2017.4.17 in /opt/conda/lib/python3.7/site-packages (from requests->torchvision) (2022.12.7)\r\n",
      "\u001b[33mWARNING: Running pip as the 'root' user can result in broken permissions and conflicting behaviour with the system package manager. It is recommended to use a virtual environment instead: https://pip.pypa.io/warnings/venv\u001b[0m\u001b[33m\r\n",
      "\u001b[0mCollecting torchsummary\r\n",
      "  Downloading torchsummary-1.5.1-py3-none-any.whl (2.8 kB)\r\n",
      "Installing collected packages: torchsummary\r\n",
      "Successfully installed torchsummary-1.5.1\r\n",
      "\u001b[33mWARNING: Running pip as the 'root' user can result in broken permissions and conflicting behaviour with the system package manager. It is recommended to use a virtual environment instead: https://pip.pypa.io/warnings/venv\u001b[0m\u001b[33m\r\n",
      "\u001b[0m"
     ]
    }
   ],
   "source": [
    "! pip install torch torchvision\n",
    "! pip install torchsummary"
   ]
  },
  {
   "cell_type": "code",
   "execution_count": 2,
   "id": "d8ec1b78",
   "metadata": {
    "execution": {
     "iopub.execute_input": "2023-03-25T10:57:39.350119Z",
     "iopub.status.busy": "2023-03-25T10:57:39.349660Z",
     "iopub.status.idle": "2023-03-25T10:57:42.372228Z",
     "shell.execute_reply": "2023-03-25T10:57:42.370988Z"
    },
    "papermill": {
     "duration": 3.031016,
     "end_time": "2023-03-25T10:57:42.376140",
     "exception": false,
     "start_time": "2023-03-25T10:57:39.345124",
     "status": "completed"
    },
    "tags": []
   },
   "outputs": [
    {
     "data": {
      "text/plain": [
       "<torch._C.Generator at 0x7f4abb3f5f10>"
      ]
     },
     "execution_count": 2,
     "metadata": {},
     "output_type": "execute_result"
    }
   ],
   "source": [
    "import torch\n",
    "import torch.nn as nn\n",
    "from torch import optim\n",
    "import torchvision.models as models\n",
    "from torch.utils.data import Dataset\n",
    "from torchvision.datasets import ImageFolder\n",
    "from torchvision import transforms, models\n",
    "import matplotlib.pyplot as plt\n",
    "from torch.utils.data import random_split\n",
    "\n",
    "torch.manual_seed(17)"
   ]
  },
  {
   "cell_type": "markdown",
   "id": "1ba16854",
   "metadata": {
    "papermill": {
     "duration": 0.003528,
     "end_time": "2023-03-25T10:57:42.383238",
     "exception": false,
     "start_time": "2023-03-25T10:57:42.379710",
     "status": "completed"
    },
    "tags": []
   },
   "source": [
    "# HYPERPARAMS"
   ]
  },
  {
   "cell_type": "code",
   "execution_count": 3,
   "id": "caea2c5c",
   "metadata": {
    "execution": {
     "iopub.execute_input": "2023-03-25T10:57:42.391647Z",
     "iopub.status.busy": "2023-03-25T10:57:42.390952Z",
     "iopub.status.idle": "2023-03-25T10:57:42.398913Z",
     "shell.execute_reply": "2023-03-25T10:57:42.396636Z"
    },
    "papermill": {
     "duration": 0.01588,
     "end_time": "2023-03-25T10:57:42.402376",
     "exception": false,
     "start_time": "2023-03-25T10:57:42.386496",
     "status": "completed"
    },
    "tags": []
   },
   "outputs": [],
   "source": [
    "DEBUG = True\n",
    "NUM_INPUT_CHANNELS = 3\n",
    "NUM_OUTPUT_CHANNELS = 1\n",
    "\n",
    "NUM_EPOCHS = 20\n",
    "\n",
    "LR = 1e-6\n",
    "MOMENTUM = 0.9\n",
    "BATCH_SIZE = 16"
   ]
  },
  {
   "cell_type": "code",
   "execution_count": null,
   "id": "e11b8106",
   "metadata": {
    "papermill": {
     "duration": 0.002553,
     "end_time": "2023-03-25T10:57:42.407945",
     "exception": false,
     "start_time": "2023-03-25T10:57:42.405392",
     "status": "completed"
    },
    "tags": []
   },
   "outputs": [],
   "source": []
  }
 ],
 "metadata": {
  "kernelspec": {
   "display_name": "Python 3",
   "language": "python",
   "name": "python3"
  },
  "language_info": {
   "codemirror_mode": {
    "name": "ipython",
    "version": 3
   },
   "file_extension": ".py",
   "mimetype": "text/x-python",
   "name": "python",
   "nbconvert_exporter": "python",
   "pygments_lexer": "ipython3",
   "version": "3.7.12"
  },
  "papermill": {
   "default_parameters": {},
   "duration": 40.565172,
   "end_time": "2023-03-25T10:57:43.436719",
   "environment_variables": {},
   "exception": null,
   "input_path": "__notebook__.ipynb",
   "output_path": "__notebook__.ipynb",
   "parameters": {},
   "start_time": "2023-03-25T10:57:02.871547",
   "version": "2.4.0"
  }
 },
 "nbformat": 4,
 "nbformat_minor": 5
}
